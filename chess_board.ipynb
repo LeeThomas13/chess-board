{
 "metadata": {
  "language_info": {
   "codemirror_mode": {
    "name": "ipython",
    "version": 3
   },
   "file_extension": ".py",
   "mimetype": "text/x-python",
   "name": "python",
   "nbconvert_exporter": "python",
   "pygments_lexer": "ipython3",
   "version": "3.9.0-final"
  },
  "orig_nbformat": 2,
  "kernelspec": {
   "name": "python3",
   "display_name": "Python 3"
  }
 },
 "nbformat": 4,
 "nbformat_minor": 2,
 "cells": [
  {
   "cell_type": "code",
   "execution_count": 1,
   "metadata": {},
   "outputs": [],
   "source": [
    "import numpy as np\n",
    "import matplotlib.pyplot as plt"
   ]
  },
  {
   "cell_type": "code",
   "execution_count": 2,
   "metadata": {},
   "outputs": [],
   "source": [
    "class ChessBoard:\n",
    "\n",
    "    def __init__(self):\n",
    "        self.grid = np.zeros ((8, 8, 3))\n",
    "\n",
    "        white = (1, 1, 1)\n",
    "        rows = range(8)\n",
    "\n",
    "        for row in rows:\n",
    "            if row % 2 == 0:\n",
    "                for i in range(0,8,2):\n",
    "                    self.grid[row, i] = white\n",
    "            else:\n",
    "                for i in range(1,8,2):\n",
    "                    self.grid[row, i] = white\n",
    "\n",
    "        red_row_position = []\n",
    "        red_column_position = []\n",
    "        blue_row_position = []\n",
    "        blue_column_position = []\n",
    "\n",
    "\n",
    "\n",
    "    def render(self):\n",
    "        plt.imshow(c.grid)\n",
    "\n",
    "    def add_red(self, row, column):\n",
    "        red = (1, .2, 0)\n",
    "        self.grid[row, column] = red\n",
    "        self.red_row_position = row\n",
    "        self.red_column_position = column\n",
    "\n",
    "    def add_blue(self, row, column):\n",
    "        blue = (0,1,1)\n",
    "        self.grid[row, column] = blue\n",
    "        self.blue_row_position = row\n",
    "        self.blue_column_position = column\n",
    "\n",
    "    def is_under_attack(self):\n",
    "        if self.red_row_position == self.blue_row_position:\n",
    "            return True\n",
    "        elif self.red_column_position == self.blue_column_position:\n",
    "            return True\n",
    "        elif abs(self.red_row_position - self.red_column_position) == abs(self.blue_column_position - self.blue_row_position):\n",
    "            return True\n",
    "        else:\n",
    "            return False\n",
    "\n",
    "        "
   ]
  },
  {
   "cell_type": "code",
   "execution_count": 3,
   "metadata": {},
   "outputs": [
    {
     "output_type": "execute_result",
     "data": {
      "text/plain": [
       "'passed test 1'"
      ]
     },
     "metadata": {},
     "execution_count": 3
    }
   ],
   "source": [
    "\n",
    "\n",
    "def test_queens_on_same_row():\n",
    "    c = ChessBoard()\n",
    "    c.add_red(6, 6)\n",
    "    c.add_blue(6, 1)\n",
    "    if c.is_under_attack() == True:\n",
    "        return ('passed test 1')\n",
    "test_queens_on_same_row()"
   ]
  },
  {
   "cell_type": "code",
   "execution_count": 4,
   "metadata": {},
   "outputs": [
    {
     "output_type": "execute_result",
     "data": {
      "text/plain": [
       "'passed test 2'"
      ]
     },
     "metadata": {},
     "execution_count": 4
    }
   ],
   "source": [
    "def test_queens_on_same_column():\n",
    "    c = ChessBoard()\n",
    "    c.add_red(1,7)\n",
    "    c.add_blue(3,7)\n",
    "    if c.is_under_attack() == True:\n",
    "        return ('passed test 2')\n",
    "test_queens_on_same_column()"
   ]
  },
  {
   "cell_type": "code",
   "execution_count": 5,
   "metadata": {},
   "outputs": [
    {
     "output_type": "execute_result",
     "data": {
      "text/plain": [
       "'passed test 3'"
      ]
     },
     "metadata": {},
     "execution_count": 5
    }
   ],
   "source": [
    "def test_queens_on_diagonal():\n",
    "    c = ChessBoard()\n",
    "    c.add_red(1, 6)\n",
    "    c.add_blue(6, 1)\n",
    "    c.is_under_attack()\n",
    "    if c.is_under_attack() == True:\n",
    "        return ('passed test 3')\n",
    "test_queens_on_diagonal()"
   ]
  },
  {
   "cell_type": "code",
   "execution_count": 6,
   "metadata": {},
   "outputs": [
    {
     "output_type": "execute_result",
     "data": {
      "text/plain": [
       "'passed test 4'"
      ]
     },
     "metadata": {},
     "execution_count": 6
    }
   ],
   "source": [
    "def test_queens_any_other():\n",
    "    c = ChessBoard()\n",
    "    c.add_red(1,7)\n",
    "    c.add_blue(2,2)\n",
    "    c.is_under_attack()\n",
    "    if c.is_under_attack() == False:\n",
    "        return('passed test 4')\n",
    "test_queens_any_other()"
   ]
  }
 ]
}